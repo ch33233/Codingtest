{
  "nbformat": 4,
  "nbformat_minor": 0,
  "metadata": {
    "colab": {
      "name": "DP_bj2839.ipynb",
      "provenance": [],
      "authorship_tag": "ABX9TyPVItOFPNQdioTWqWKjSE0u",
      "include_colab_link": true
    },
    "kernelspec": {
      "name": "python3",
      "display_name": "Python 3"
    }
  },
  "cells": [
    {
      "cell_type": "markdown",
      "metadata": {
        "id": "view-in-github",
        "colab_type": "text"
      },
      "source": [
        "<a href=\"https://colab.research.google.com/github/ch33233/Codingtest/blob/main/DP_bj2839.ipynb\" target=\"_parent\"><img src=\"https://colab.research.google.com/assets/colab-badge.svg\" alt=\"Open In Colab\"/></a>"
      ]
    },
    {
      "cell_type": "markdown",
      "metadata": {
        "id": "fgqRV1_4Z7is"
      },
      "source": [
        "# **백준 2839번 설탕 배달 - DP**\r\n",
        "\r\n",
        "https://www.acmicpc.net/problem/2839\r\n",
        "\r\n",
        "# 문제\r\n",
        "\r\n",
        "상근이는 요즘 설탕공장에서 설탕을 배달하고 있다. 상근이는 지금 사탕가게에 설탕을 정확하게 N킬로그램을 배달해야 한다. 설탕공장에서 만드는 설탕은 봉지에 담겨져 있다. 봉지는 3킬로그램 봉지와 5킬로그램 봉지가 있다.\r\n",
        "\r\n",
        "상근이는 귀찮기 때문에, 최대한 적은 봉지를 들고 가려고 한다. 예를 들어, 18킬로그램 설탕을 배달해야 할 때, 3킬로그램 봉지 6개를 가져가도 되지만, 5킬로그램 3개와 3킬로그램 1개를 배달하면, 더 적은 개수의 봉지를 배달할 수 있다.\r\n",
        "\r\n",
        "상근이가 설탕을 정확하게 N킬로그램 배달해야 할 때, 봉지 몇 개를 가져가면 되는지 그 수를 구하는 프로그램을 작성하시오.\r\n",
        "\r\n",
        "# 입력\r\n",
        "첫째 줄에 N이 주어진다. (3 ≤ N ≤ 5000)\r\n",
        "\r\n",
        "# 출력\r\n",
        "상근이가 배달하는 봉지의 최소 개수를 출력한다. 만약, 정확하게 N킬로그램을 만들 수 없다면 -1을 출력한다."
      ]
    },
    {
      "cell_type": "markdown",
      "metadata": {
        "id": "9Fq0ACkvafYb"
      },
      "source": [
        "**내 풀이**"
      ]
    },
    {
      "cell_type": "code",
      "metadata": {
        "id": "HVDWPI_aZ6gq"
      },
      "source": [
        "N = int(input())\r\n",
        "n3 = 0\r\n",
        "n5 = 0\r\n",
        "\r\n",
        "while(1):\r\n",
        "\tif(N % 5 == 0):\r\n",
        "\t\tprint(n3 + N//5)\r\n",
        "\t\tbreak\r\n",
        "\telse:\r\n",
        "\t\tN -= 3\r\n",
        "\t\tn3 += 1\r\n",
        "\t\t\r\n",
        "\t\tif (N < 0):\r\n",
        "\t\t\tprint(-1)\r\n",
        "\t\t\tbreak"
      ],
      "execution_count": null,
      "outputs": []
    },
    {
      "cell_type": "markdown",
      "metadata": {
        "id": "VoygRavsavRm"
      },
      "source": [
        "**다른 풀이**"
      ]
    },
    {
      "cell_type": "code",
      "metadata": {
        "id": "dzGz6C26awci"
      },
      "source": [
        "sugar = int(input())\r\n",
        "\r\n",
        "bag = 0\r\n",
        "while sugar >= 0 :\r\n",
        "    if sugar % 5 == 0 :  # 5의 배수이면\r\n",
        "        bag += (sugar // 5)  # 5로 나눈 몫을 구해야 정수가 됨\r\n",
        "        print(bag)\r\n",
        "        break\r\n",
        "    sugar -= 3  \r\n",
        "    bag += 1  # 5의 배수가 될 때까지 설탕-3, 봉지+1\r\n",
        "else :\r\n",
        "    print(-1)"
      ],
      "execution_count": null,
      "outputs": []
    },
    {
      "cell_type": "markdown",
      "metadata": {
        "id": "-aRwjAJEaw2B"
      },
      "source": [
        "**숏 코딩**"
      ]
    },
    {
      "cell_type": "code",
      "metadata": {
        "id": "noh-UTunazCx"
      },
      "source": [
        "n=int(input())\r\n",
        "print(-(n in [4, 7]) or n-2*n//5*2)"
      ],
      "execution_count": null,
      "outputs": []
    }
  ]
}