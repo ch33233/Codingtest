{
  "nbformat": 4,
  "nbformat_minor": 0,
  "metadata": {
    "colab": {
      "name": "이분탐색_bj1920.ipynb",
      "provenance": [],
      "authorship_tag": "ABX9TyMJrg23hnNpzJR0omR7AVX4",
      "include_colab_link": true
    },
    "kernelspec": {
      "name": "python3",
      "display_name": "Python 3"
    }
  },
  "cells": [
    {
      "cell_type": "markdown",
      "metadata": {
        "id": "view-in-github",
        "colab_type": "text"
      },
      "source": [
        "<a href=\"https://colab.research.google.com/github/ch33233/Codingtest/blob/main/%EC%9D%B4%EB%B6%84%ED%83%90%EC%83%89_bj1920.ipynb\" target=\"_parent\"><img src=\"https://colab.research.google.com/assets/colab-badge.svg\" alt=\"Open In Colab\"/></a>"
      ]
    },
    {
      "cell_type": "markdown",
      "metadata": {
        "id": "CWBk_nBV1oZc"
      },
      "source": [
        "# **백준 1920번 수 찾기 - 이분 탐색**\r\n",
        "\r\n",
        "https://www.acmicpc.net/problem/1920\r\n",
        "\r\n",
        "# 문제\r\n",
        "\r\n",
        "N개의 정수 A[1], A[2], …, A[N]이 주어져 있을 때, 이 안에 X라는 정수가 존재하는지 알아내는 프로그램을 작성하시오.\r\n",
        "\r\n",
        "\r\n",
        "---\r\n",
        "\r\n",
        "\r\n",
        "# 입력\r\n",
        "\r\n",
        "첫째 줄에 자연수 N(1 ≤ N ≤ 100,000)이 주어진다. 다음 줄에는 N개의 정수 A[1], A[2], …, A[N]이 주어진다. 다음 줄에는 M(1 ≤ M ≤ 100,000)이 주어진다. 다음 줄에는 M개의 수들이 주어지는데, 이 수들이 A안에 존재하는지 알아내면 된다. 모든 정수의 범위는 -2<sup>31</sup> 보다 크거나 같고 2<sup>31</sup>보다 작다.\r\n",
        "\r\n",
        "\r\n",
        "---\r\n",
        "\r\n",
        "# 출력\r\n",
        "\r\n",
        "\r\n",
        "M개의 줄에 답을 출력한다. 존재하면 1을, 존재하지 않으면 0을 출력한다.\r\n"
      ]
    },
    {
      "cell_type": "markdown",
      "metadata": {
        "id": "NgmfjPoJ2in2"
      },
      "source": [
        "**내 풀이**"
      ]
    },
    {
      "cell_type": "code",
      "metadata": {
        "id": "93d2alpX1lZA"
      },
      "source": [
        "import sys\r\n",
        "\r\n",
        "n = int(input())\r\n",
        "a = list(map(int, sys.stdin.readline().split()))\r\n",
        "m = int(input())\r\n",
        "b = list(map(int, sys.stdin.readline().split()))\r\n",
        "\r\n",
        "x = [b[i] in a for i in range(m)]\r\n",
        "print([int(i)^0 for i in x])"
      ],
      "execution_count": null,
      "outputs": []
    },
    {
      "cell_type": "markdown",
      "metadata": {
        "id": "FHRTisC03OQp"
      },
      "source": [
        "이 풀이는 시간 초과로 실패합니다.\r\n",
        "\r\n",
        " in 연산자를 사용하여 b[i] 요소가 a 안에 존재하는지 확인하려고 하였으나, in 연산자는 BF 알고리즘을 적용하여 시간복잡도가 O(n) 인데 데이터의 크기가 n 이므로 총 시간복잡도는 O(n<sup>2</sup>)가 됩니다.\r\n",
        "\r\n",
        " 이후 in 연산자의 반환값이 True or False 이므로 XOR를 해주는 비트연산자 ^ 를 통해 ^0 을 하여 true 일 경우 1을, false일 경우 0을 대입하도록 구현했습니다."
      ]
    },
    {
      "cell_type": "code",
      "metadata": {
        "id": "Nxn9o5WR1n0b"
      },
      "source": [
        "import sys\r\n",
        "\r\n",
        "n = int(input())\r\n",
        "a = sorted(list(map(int, sys.stdin.readline().split())))\r\n",
        "m = int(input())\r\n",
        "b = list(map(int, sys.stdin.readline().split()))\r\n",
        "\r\n",
        "answer_list = []\r\n",
        "\r\n",
        "for i in b:\r\n",
        "\tmin = 0\r\n",
        "\tmax = n-1\r\n",
        "\t\r\n",
        "\twhile(min <= max):\r\n",
        "\t\tif i > a[max]:\r\n",
        "\t\t\tanswer_list.append(0)\r\n",
        "\t\t\tbreak\r\n",
        "\t\tif i < a[min]:\r\n",
        "\t\t\tanswer_list.append(0)\r\n",
        "\t\t\tbreak\r\n",
        "\t\r\n",
        "\t\tmid = (min+max)//2\r\n",
        "\t\tif i > a[mid]:\r\n",
        "\t\t\tmin = mid+1\r\n",
        "\t\telif i < a[mid]:\r\n",
        "\t\t\tmax = mid-1\r\n",
        "\t\telif i == a[mid]:\r\n",
        "\t\t\tanswer_list.append(1)\r\n",
        "\t\t\tbreak\r\n",
        "\t\telse :\r\n",
        "\t\t\tanswer_list.append(0)\r\n",
        "\t\t\tbreak\r\n",
        "\r\n",
        "print(*answer_list, sep='\\n')"
      ],
      "execution_count": null,
      "outputs": []
    },
    {
      "cell_type": "markdown",
      "metadata": {
        "id": "RAtLjOswDnNa"
      },
      "source": [
        "이분탐색을 사용하여 시간복잡도를 O(N) -> O(logN) 으로 줄였습니다. 총 시간복잡도는 O(NlogN)가 됩니다.\r\n",
        "\r\n",
        "while 문에서 이분탐색을 시작하는데, M 내부의 수가 N 내부인 A[0] ~ A[N-1] 안에 속하지 않을 경우, 0을 대입하는 식으로 불필요한 시간을 줄였습니다.\r\n",
        "\r\n",
        "마지막 출력 시, list의 요소 한개를 한 줄에 출력해야 하기 때문에, print의 sep 옵셕을 사용하였습니다. 하지만 출력하고자 하는 것이 list이기 때문에 *(unpacking operator)를 사용하여 unpacking 한 데이터로 전달해 출력했습니다.\r\n",
        "unpacking을 하지 않을 시, list 자체를 print한 경우와 동일합니다."
      ]
    },
    {
      "cell_type": "markdown",
      "metadata": {
        "id": "TOkGvUxh1oH0"
      },
      "source": [
        "**다른 풀이**"
      ]
    },
    {
      "cell_type": "code",
      "metadata": {
        "id": "KJZFHfZO2y03"
      },
      "source": [
        "import sys\r\n",
        "input = sys.stdin.readline\r\n",
        "\r\n",
        "def BOJ_1920():\r\n",
        "    n,A,m = input(),set(input().split()),input()\r\n",
        "    res=\"\"\r\n",
        "    for i in input().split():\r\n",
        "        res += \"1\\n\" if i in A else \"0\\n\"\r\n",
        "    print(res)\r\n",
        "BOJ_1920()"
      ],
      "execution_count": null,
      "outputs": []
    },
    {
      "cell_type": "code",
      "metadata": {
        "id": "n3ZN4KoQHKXq"
      },
      "source": [
        "def solve():\r\n",
        "    input()\r\n",
        "    table = set(input().split())\r\n",
        "    input()\r\n",
        "    print(' '.join(['1' if i in table else '0' for i in input().split()]))\r\n",
        "\r\n",
        "\r\n",
        "solve()"
      ],
      "execution_count": null,
      "outputs": []
    },
    {
      "cell_type": "code",
      "metadata": {
        "id": "CEAlnufZHo7K"
      },
      "source": [
        "import sys\r\n",
        "N,NL,M=sys.stdin.readline(),set(sys.stdin.readline().split()),sys.stdin.readline()\r\n",
        "ML=sys.stdin.readline().split()\r\n",
        "res=\"\"\r\n",
        "for i in ML:\r\n",
        "\tif i in NL:\r\n",
        "\t\tres+=\"1\\n\"\r\n",
        "\telse:\r\n",
        "\t\tres+=\"0\\n\"\r\n",
        "print(res)"
      ],
      "execution_count": null,
      "outputs": []
    },
    {
      "cell_type": "markdown",
      "metadata": {
        "id": "wsYJj8VM2l0u"
      },
      "source": [
        "**숏 코딩**"
      ]
    },
    {
      "cell_type": "code",
      "metadata": {
        "id": "MgxyyZEIHeSM"
      },
      "source": [
        "x,a,y,b=eval('input().split(),'*4);a={*a}\r\n",
        "for i in b:print(+(i in a))"
      ],
      "execution_count": null,
      "outputs": []
    },
    {
      "cell_type": "code",
      "metadata": {
        "id": "INWoLc1r2zY-"
      },
      "source": [
        "z,z,t,t=open(0)\r\n",
        "z={*z.split()}\r\n",
        "for i in t.split():print(+(i in z))"
      ],
      "execution_count": null,
      "outputs": []
    },
    {
      "cell_type": "markdown",
      "metadata": {
        "id": "cygvfGPJKSOE"
      },
      "source": [
        "**배운 점**\r\n",
        "\r\n",
        "다른 풀이들을 보던 중, 내 풀이와 유사한 답안이 있어서 왜 내 풀이가 틀렸는지 분석해보았습니다.\r\n",
        "\r\n",
        "코드의 구현상 구조적으로는 비슷하지만, 자료형의 시간복잡도 차이에서 답이 갈라졌습니다.\r\n",
        "\r\n",
        "list 타입의 메소드의 Big-O에서 특정 element가 있는지 확인하는 Containment는 O(N)인 반면, set 타입의 메소드는 겨우 O(1)에 지나지않았습니다. 하여 자료구조를 적절하게 사용하는 것이 불필요한 시간복잡도를 줄일 수 있다는 것을 배웠습니다.\r\n",
        "\r\n",
        "또 파이썬에서 * 과 **의 의미 중 * 는 unpacking도 가능하지만,\r\n",
        "\r\n",
        "함수에 입력되는 변수의 개수를 알 수 없을 때에도 사용합니다.\r\n",
        "\r\n",
        "\r\n",
        "```\r\n",
        "# 함수에 입력되는 변수 개수를 알 수 없을 때 사용한다. *args 형태로 매개변수를 설정한다.\r\n",
        "# 즉 '*'의 의미는 튜플형태로 매개변수를 받겠다고 지정한다는 의미를 갖는다.\r\n",
        "\r\n",
        "def add(*args):\r\n",
        "    total=0\r\n",
        "    for i in args:\r\n",
        "        total+=i\r\n",
        "    return total\r\n",
        "\r\n",
        "print(add(1, 2, 3, 4))\r\n",
        "\r\n",
        "# 결과 : 10\r\n",
        "\r\n",
        "# *와 유사하지만, 매개변수에 입력되는 데이터 형식이 튜플이 아닌 딕셔너리 형태라는데 차이가 있다.\r\n",
        "\r\n",
        "def print_args(**klist):\r\n",
        "    print(klist)\r\n",
        "\r\n",
        "print_args(p1=\"1\", p2=\"2\", p3=\"3\")\r\n",
        "\r\n",
        "#결과 : {'p2': '2', 'p3': '3', 'p1': '1'}\r\n",
        "```\r\n",
        "\r\n",
        "\r\n",
        "\r\n",
        "\r\n",
        "**Reference**\r\n",
        "\r\n",
        "https://www.ics.uci.edu/~pattis/ICS-33/lectures/complexitypython.txt\r\n",
        "\r\n",
        "https://dev.plusblog.co.kr/42"
      ]
    }
  ]
}
