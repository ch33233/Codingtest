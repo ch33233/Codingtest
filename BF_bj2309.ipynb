{
  "nbformat": 4,
  "nbformat_minor": 0,
  "metadata": {
    "colab": {
      "name": "BF_bj2309.ipynb",
      "provenance": [],
      "authorship_tag": "ABX9TyP/3vBgCaj+k1zqxGWUz8J8",
      "include_colab_link": true
    },
    "kernelspec": {
      "name": "python3",
      "display_name": "Python 3"
    }
  },
  "cells": [
    {
      "cell_type": "markdown",
      "metadata": {
        "id": "view-in-github",
        "colab_type": "text"
      },
      "source": [
        "<a href=\"https://colab.research.google.com/github/ch33233/Codingtest/blob/main/BF_bj2309.ipynb\" target=\"_parent\"><img src=\"https://colab.research.google.com/assets/colab-badge.svg\" alt=\"Open In Colab\"/></a>"
      ]
    },
    {
      "cell_type": "markdown",
      "metadata": {
        "id": "pHoBBTacKkST"
      },
      "source": [
        "# **백준 2309번 일곱 난쟁이 - BF**\r\n",
        "\r\n",
        "https://www.acmicpc.net/problem/2309\r\n",
        "\r\n",
        "# 문제\r\n",
        "\r\n",
        "왕비를 피해 일곱 난쟁이들과 함께 평화롭게 생활하고 있던 백설공주에게 위기가 찾아왔다. 일과를 마치고 돌아온 난쟁이가 일곱 명이 아닌 아홉 명이었던 것이다.\r\n",
        "\r\n",
        "아홉 명의 난쟁이는 모두 자신이 \"백설 공주와 일곱 난쟁이\"의 주인공이라고 주장했다. 뛰어난 수학적 직관력을 가지고 있던 백설공주는, 다행스럽게도 일곱 난쟁이의 키의 합이 100이 됨을 기억해 냈다.\r\n",
        "\r\n",
        "아홉 난쟁이의 키가 주어졌을 때, 백설공주를 도와 일곱 난쟁이를 찾는 프로그램을 작성하시오.\r\n",
        "\r\n",
        "# 입력\r\n",
        "\r\n",
        "아홉 개의 줄에 걸쳐 난쟁이들의 키가 주어진다. 주어지는 키는 100을 넘지 않는 자연수이며, 아홉 난쟁이의 키는 모두 다르며, 가능한 정답이 여러 가지인 경우에는 아무거나 출력한다.\r\n",
        "\r\n",
        "# 출력\r\n",
        "\r\n",
        "일곱 난쟁이의 키를 오름차순으로 출력한다. 일곱 난쟁이를 찾을 수 없는 경우는 없다."
      ]
    },
    {
      "cell_type": "markdown",
      "metadata": {
        "id": "H7fZqUzdKwrQ"
      },
      "source": [
        "**내 풀이**"
      ]
    },
    {
      "cell_type": "code",
      "metadata": {
        "id": "zjCkMkpAL8rr"
      },
      "source": [
        "import sys\r\n",
        "\r\n",
        "a = [int(sys.stdin.readline().strip()) for _ in range(9)]\r\n",
        "a.sort()\r\n",
        "for i in range(9):\r\n",
        "\tfor j in range(i+1,9):\r\n",
        "\t\tif sum(a)-a[i]-a[j]==100:\r\n",
        "\t\t\tfor k in range(9):\r\n",
        "\t\t\t\tif k == i or k == j:\r\n",
        "\t\t\t\t\tcontinue\r\n",
        "\t\t\t\telse:\r\n",
        "\t\t\t\t\tprint(a[k])\r\n",
        "\t\t\texit()"
      ],
      "execution_count": null,
      "outputs": []
    }
  ]
}