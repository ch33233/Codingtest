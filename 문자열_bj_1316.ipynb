{
  "nbformat": 4,
  "nbformat_minor": 0,
  "metadata": {
    "colab": {
      "name": "문자열 bj_1316.ipynb",
      "provenance": [],
      "authorship_tag": "ABX9TyPK/p5ApOfKli6kiWA07uWj",
      "include_colab_link": true
    },
    "kernelspec": {
      "name": "python3",
      "display_name": "Python 3"
    }
  },
  "cells": [
    {
      "cell_type": "markdown",
      "metadata": {
        "id": "view-in-github",
        "colab_type": "text"
      },
      "source": [
        "<a href=\"https://colab.research.google.com/github/ch33233/Codingtest/blob/main/%EB%AC%B8%EC%9E%90%EC%97%B4_bj_1316.ipynb\" target=\"_parent\"><img src=\"https://colab.research.google.com/assets/colab-badge.svg\" alt=\"Open In Colab\"/></a>"
      ]
    },
    {
      "cell_type": "markdown",
      "metadata": {
        "id": "VNj8F_dxtyZn"
      },
      "source": [
        "# **백준 1316번 그룹 단어 체커 -문자열**\r\n",
        "\r\n",
        "https://www.acmicpc.net/problem/1316\r\n",
        "\r\n",
        "# 문제\r\n",
        "\r\n",
        "그룹 단어란 단어에 존재하는 모든 문자에 대해서, 각 문자가 연속해서 나타나는 경우만을 말한다. 예를 들면, ccazzzzbb는 c, a, z, b가 모두 연속해서 나타나고, kin도 k, i, n이 연속해서 나타나기 때문에 그룹 단어이지만, aabbbccb는 b가 떨어져서 나타나기 때문에 그룹 단어가 아니다.\r\n",
        "\r\n",
        "단어 N개를 입력으로 받아 그룹 단어의 개수를 출력하는 프로그램을 작성하시오.\r\n",
        "\r\n",
        "\r\n",
        "---\r\n",
        "\r\n",
        "\r\n",
        "# 입력\r\n",
        "\r\n",
        "첫째 줄에 단어의 개수 N이 들어온다. N은 100보다 작거나 같은 자연수이다. 둘째 줄부터 N개의 줄에 단어가 들어온다. 단어는 알파벳 소문자로만 되어있고 중복되지 않으며, 길이는 최대 100이다.\r\n",
        "\r\n",
        "\r\n",
        "---\r\n",
        "\r\n",
        "\r\n",
        "# 출력\r\n",
        "\r\n",
        "첫째 줄에 그룹 단어의 개수를 출력한다."
      ]
    },
    {
      "cell_type": "markdown",
      "metadata": {
        "id": "MrAH7K9ctzAJ"
      },
      "source": [
        "**내 풀이**"
      ]
    },
    {
      "cell_type": "code",
      "metadata": {
        "id": "qB2LIWfstv7R"
      },
      "source": [
        "import sys\r\n",
        "\r\n",
        "n = int(sys.stdin.readline().strip())\r\n",
        "count = 0\r\n",
        "\r\n",
        "for _ in range(n):\r\n",
        "\ts = sys.stdin.readline()\r\n",
        "\r\n",
        "\tfor i in range(len(s)):\r\n",
        "\t\tif i != len(s)-1:\r\n",
        "\t\t\tif s[i] == s[i+1]:\r\n",
        "\t\t\t\tpass\r\n",
        "\t\t\telif s[i] in s[i+1:]:\r\n",
        "\t\t\t\tbreak\r\n",
        "\t\telse:\r\n",
        "\t\t\tcount += 1\r\n",
        "\t\t\t\r\n",
        "print(count)"
      ],
      "execution_count": null,
      "outputs": []
    },
    {
      "cell_type": "markdown",
      "metadata": {
        "id": "ekS706Cdt0fn"
      },
      "source": [
        "**다른 풀이**"
      ]
    },
    {
      "cell_type": "code",
      "metadata": {
        "id": "czsP_LVmt5TC"
      },
      "source": [
        "result = int(input())\r\n",
        "for _ in range(result):\r\n",
        "    word = input()\r\n",
        "    for i in range(1, len(word)):\r\n",
        "        if word.find(word[i-1]) > word.find(word[i]):\r\n",
        "            result -= 1\r\n",
        "            break\r\n",
        "print(result)"
      ],
      "execution_count": null,
      "outputs": []
    },
    {
      "cell_type": "markdown",
      "metadata": {
        "id": "jHjTrL7tt3am"
      },
      "source": [
        "**숏 코딩**"
      ]
    },
    {
      "cell_type": "code",
      "metadata": {
        "id": "jlePc9Zwt5hF"
      },
      "source": [
        "r=0;i=input;exec('s=i();r+=[*s]==sorted(s,key=s.find);'*int(i()));print(r)"
      ],
      "execution_count": null,
      "outputs": []
    },
    {
      "cell_type": "code",
      "metadata": {
        "id": "XIrjZkW9uUdH"
      },
      "source": [
        "re=0\r\n",
        "for i in range(int(input())):\r\n",
        "    a=input()\r\n",
        "    re+=list(a)==sorted(a, key=a.find)\r\n",
        "print(re)"
      ],
      "execution_count": null,
      "outputs": []
    },
    {
      "cell_type": "code",
      "metadata": {
        "id": "tmI0Fv9fuXSw"
      },
      "source": [
        "c=0\r\n",
        "exec(\"\"\"\r\n",
        "word=input()\r\n",
        "if list(word)== sorted(word,key=word.find):c+=1\r\n",
        "\"\"\"*int(input()))\r\n",
        "print(c)"
      ],
      "execution_count": null,
      "outputs": []
    }
  ]
}