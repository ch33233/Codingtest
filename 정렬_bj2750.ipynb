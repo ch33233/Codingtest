{
  "nbformat": 4,
  "nbformat_minor": 0,
  "metadata": {
    "colab": {
      "name": "Untitled1.ipynb",
      "provenance": [],
      "authorship_tag": "ABX9TyOmdb6piQWd4M5tw9NHG2nN",
      "include_colab_link": true
    },
    "kernelspec": {
      "name": "python3",
      "display_name": "Python 3"
    }
  },
  "cells": [
    {
      "cell_type": "markdown",
      "metadata": {
        "id": "view-in-github",
        "colab_type": "text"
      },
      "source": [
        "<a href=\"https://colab.research.google.com/github/ch33233/Codingtest/blob/main/%EC%A0%95%EB%A0%AC_bj2750.ipynb\" target=\"_parent\"><img src=\"https://colab.research.google.com/assets/colab-badge.svg\" alt=\"Open In Colab\"/></a>"
      ]
    },
    {
      "cell_type": "markdown",
      "metadata": {
        "id": "Tjo7Xaf9q4T2"
      },
      "source": [
        "# **백준 2750번 수 정렬하기 - 정렬**\r\n",
        "https://www.acmicpc.net/problem/2750\r\n",
        "\r\n",
        "# 문제\r\n",
        "N개의 수가 주어졌을 때, 이를 오름차순으로 정렬하는 프로그램을 작성하시오.\r\n",
        "\r\n",
        "# 입력\r\n",
        "첫째 줄에 수의 개수 N(1 ≤ N ≤ 1,000)이 주어진다. 둘째 줄부터 N개의 줄에는 숫자가 주어진다. 이 수는 절댓값이 1,000보다 작거나 같은 정수이다. 수는 중복되지 않는다.\r\n",
        "\r\n",
        "# 출력\r\n",
        "첫째 줄부터 N개의 줄에 오름차순으로 정렬한 결과를 한 줄에 하나씩 출력한다.\r\n",
        "\r\n",
        "\r\n",
        "\r\n",
        "예제 입력\r\n",
        "\r\n",
        "5\r\n",
        "\r\n",
        "5\r\n",
        "\r\n",
        "2\r\n",
        "\r\n",
        "3\r\n",
        "\r\n",
        "4\r\n",
        "\r\n",
        "1\r\n",
        "\r\n",
        "예제 출력\r\n",
        "\r\n",
        "1\r\n",
        "\r\n",
        "2\r\n",
        "\r\n",
        "3\r\n",
        "\r\n",
        "4\r\n",
        "\r\n",
        "5"
      ]
    },
    {
      "cell_type": "markdown",
      "metadata": {
        "id": "X74QPoaVu4KJ"
      },
      "source": [
        "**내 풀이**"
      ]
    },
    {
      "cell_type": "code",
      "metadata": {
        "id": "laNwq7_TuujS"
      },
      "source": [
        "import sys\r\n",
        "n = int(sys.stdin.readline().strip())\r\n",
        "a = []\r\n",
        "for i in range(n):\r\n",
        "\ta.append(int(sys.stdin.readline().strip()))\r\n",
        "\r\n",
        "a.sort()\r\n",
        "\r\n",
        "for i in range(n):\r\n",
        "\tprint(a[i])"
      ],
      "execution_count": null,
      "outputs": []
    },
    {
      "cell_type": "markdown",
      "metadata": {
        "id": "10IZYnHDu7gP"
      },
      "source": [
        "**다른 풀이**\r\n",
        "\r\n",
        "삽입 정렬 혹은 버블 정렬로 푼 풀이\r\n"
      ]
    },
    {
      "cell_type": "code",
      "metadata": {
        "id": "07m6Cc6dwdwY"
      },
      "source": [
        "# Bubble Sort\r\n",
        "N = int(input())\r\n",
        "\r\n",
        "numbers = []\r\n",
        "\r\n",
        "for _ in range(N) : \r\n",
        "    numbers.append(int(input()))\r\n",
        "\r\n",
        "for i in range(len(numbers)) : \r\n",
        "    for j in range(len(numbers)) : \r\n",
        "        if numbers[i] < numbers[j] : \r\n",
        "            numbers[i], numbers[j] = numbers[j], numbers[i]\r\n",
        "            \r\n",
        "for n in numbers : \r\n",
        "    print(n)"
      ],
      "execution_count": null,
      "outputs": []
    },
    {
      "cell_type": "code",
      "metadata": {
        "id": "ZSIe3pt4wXRY"
      },
      "source": [
        "# Insert Sort\r\n",
        "N = int(input())\r\n",
        "nums = []\r\n",
        "\r\n",
        "for _ in range(N) : \r\n",
        "    nums.append(int(input()))\r\n",
        "\r\n",
        "for i in range(1, len(nums)) :\r\n",
        "    while (i>0) & (nums[i] < nums[i-1]) :\r\n",
        "        nums[i], nums[i-1] = nums[i-1], nums[i]\r\n",
        "        \r\n",
        "        i -= 1\r\n",
        "        \r\n",
        "for n in nums : \r\n",
        "    print(n)"
      ],
      "execution_count": null,
      "outputs": []
    },
    {
      "cell_type": "markdown",
      "metadata": {
        "id": "QrGivKVSwlg7"
      },
      "source": [
        "**숏 코딩**"
      ]
    },
    {
      "cell_type": "code",
      "metadata": {
        "id": "wC3wR2zQwnLY"
      },
      "source": [
        "print(*sorted(map(int,[*open(0)][1:])))"
      ],
      "execution_count": null,
      "outputs": []
    }
  ]
}