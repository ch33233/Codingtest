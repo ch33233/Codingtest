{
  "nbformat": 4,
  "nbformat_minor": 0,
  "metadata": {
    "colab": {
      "name": "정렬_bj10989.ipynb",
      "provenance": [],
      "collapsed_sections": [],
      "authorship_tag": "ABX9TyOZojazSvB5OTbpWlH7jEiq",
      "include_colab_link": true
    },
    "kernelspec": {
      "name": "python3",
      "display_name": "Python 3"
    }
  },
  "cells": [
    {
      "cell_type": "markdown",
      "metadata": {
        "id": "view-in-github",
        "colab_type": "text"
      },
      "source": [
        "<a href=\"https://colab.research.google.com/github/ch33233/Codingtest/blob/main/%EC%A0%95%EB%A0%AC_bj10989.ipynb\" target=\"_parent\"><img src=\"https://colab.research.google.com/assets/colab-badge.svg\" alt=\"Open In Colab\"/></a>"
      ]
    },
    {
      "cell_type": "markdown",
      "metadata": {
        "id": "jpALQP8KZ-gm"
      },
      "source": [
        "# **백준 10989번 수 정렬하기3 - 정렬**\r\n",
        "\r\n",
        "https://www.acmicpc.net/problem/10989\r\n",
        "\r\n",
        "# 문제\r\n",
        "\r\n",
        "N개의 수가 주어졌을 때, 이를 오름차순으로 정렬하는 프로그램을 작성하시오.\r\n",
        "\r\n",
        "\r\n",
        "---\r\n",
        "\r\n",
        "\r\n",
        "# 입력\r\n",
        "\r\n",
        "첫째 줄에 수의 개수 N(1 ≤ N ≤ 10,000,000)이 주어진다. 둘째 줄부터 N개의 줄에는 숫자가 주어진다. 이 수는 10,000보다 작거나 같은 자연수이다.\r\n",
        "\r\n",
        "\r\n",
        "---\r\n",
        "\r\n",
        "\r\n",
        "# 출력\r\n",
        "\r\n",
        "첫째 줄부터 N개의 줄에 오름차순으로 정렬한 결과를 한 줄에 하나씩 출력한다.\r\n",
        "\r\n",
        "\r\n",
        "---\r\n",
        "\r\n"
      ]
    },
    {
      "cell_type": "markdown",
      "metadata": {
        "id": "HVjtd2qLamn3"
      },
      "source": [
        "**내 풀이**"
      ]
    },
    {
      "cell_type": "code",
      "metadata": {
        "id": "sCRBhytCcKrJ"
      },
      "source": [
        "import sys\r\n",
        "s = [*open(0)]\r\n",
        "del s[0]\r\n",
        "print(sorted(s))"
      ],
      "execution_count": null,
      "outputs": []
    },
    {
      "cell_type": "markdown",
      "metadata": {
        "id": "VqlgHQD8cLM6"
      },
      "source": [
        "처음 썼던 코드입니다. 이 문제가 이전 문제들인 수 정렬하기, 수 정렬하기2 같이 시간복잡도만 고려하여 간단하게 풀면 되는 문제인 줄 알았습니다. 하지만 메모리 초과가 나고, N의 범위가 10,000,000 단위에 메모리 제한이 256MB -> 8MB로 되어있어 시간복잡도가 아닌 공간복잡도를 해결해야하는 문제인 것을 깨달았습니다.\r\n",
        "\r\n",
        "이 문제는 계수정렬(Counting Sort)를 사용하여 풀어야 합니다. 수들이 10,000보다 작거나 같은 자연수인 점을 이용하여 10,001개 크기의 배열을 선언하고 수를 입력받으면 배열[수] 에 +1씩 해주어 수를 count하여 푸는 것입니다.\r\n",
        "\r\n",
        "아래는 계수정렬을 이용하여 푼 풀이입니다."
      ]
    },
    {
      "cell_type": "code",
      "metadata": {
        "id": "98M6zwkgZ9wr"
      },
      "source": [
        "import sys\r\n",
        "n = int(input())\r\n",
        "a = [0 for i in range(10001)]\r\n",
        "for i in range(n):\r\n",
        "\ttmp = int(sys.stdin.readline().strip())\r\n",
        "\ta[tmp] += 1\r\n",
        "\r\n",
        "for i in range(10001):\r\n",
        "\tfor _ in range(a[i]):\r\n",
        "\t\tprint(i)"
      ],
      "execution_count": null,
      "outputs": []
    },
    {
      "cell_type": "markdown",
      "metadata": {
        "id": "3HYcWZi0an-Q"
      },
      "source": [
        "**다른 풀이**"
      ]
    },
    {
      "cell_type": "code",
      "metadata": {
        "id": "VasCqGeyapBv"
      },
      "source": [
        "f = open(0) \r\n",
        "f.readline()\r\n",
        "li=[0]*10001\r\n",
        "for line in f:\r\n",
        "    li[int(line)] += 1\r\n",
        "\r\n",
        "for i in range(1, 10001):\r\n",
        "    print(f'{i}\\n' * li[i], end='')"
      ],
      "execution_count": null,
      "outputs": []
    },
    {
      "cell_type": "markdown",
      "metadata": {
        "id": "hY2lHdaugNvE"
      },
      "source": [
        "`open(0)`를 통해 파일 오브젝트를 받고 `realine()`으로 한 줄 입력받고 시작하는 점이 흥미로웠습니다. 또 리스트 자체를 선언하는데에 있어서 `*` 연산자를 통해 값이 0인 리스트를 곱연산으로 10,001개를 만들었습니다.\r\n",
        "\r\n",
        "처음 `f.readline()` 은 사실상 한 줄 읽고 버리고 그 이후 `for line in f:`부터 유효한 값을 입력받습니다.\r\n",
        "\r\n",
        "마지막 줄 `print(f'{i}\\n' * li[i], end='')` 에서 print(f) 는 f-string으로문자열 포매팅입니다. f, {}만 알면됩니다. 문자열 맨 앞에 f를 붙이고, {}안에 변수이름, 출력하고싶은것을 넣으면 됩니다. 이후 li[i]번 만큼 출력합니다."
      ]
    },
    {
      "cell_type": "code",
      "metadata": {
        "id": "BS14BNpPbLpR"
      },
      "source": [
        "from sys import stdin, stdout\r\n",
        "next(stdin)\r\n",
        "cnt=[0]*10001\r\n",
        "for num in stdin:\r\n",
        "    cnt[int(num)]+=1\r\n",
        "for i in range(1,10001):\r\n",
        "    stdout.write('{}\\n'.format(i)*cnt[i])"
      ],
      "execution_count": null,
      "outputs": []
    },
    {
      "cell_type": "markdown",
      "metadata": {
        "id": "lJPNw6zQkaZF"
      },
      "source": [
        "`next()`함수는 반복자와 생성기로 `iter()`와 같이 쓰입니다. `iter()`함수는 전달된 데이터의 반복자를 꺼내 반환하고 `next()`함수는 그 반복자가 다음에 출력해야 할 요소를 반환합니다. 이 코드에서는 next(stdin)으로 10을 받은 후 이후 for문으로 stdin으로 입력되는 값을 받습니다.\r\n",
        "\r\n",
        "string 형식으로 받은 num을 cnt 배열의 index를 지정할 때, int형으로 바꿔주는 것이 있습니다.\r\n",
        "\r\n",
        "stdin, stdout은 sys 모듈을 import해야합니다. `stdout.write()`는 `print()`문이 자동개행을 하므로 여러줄 문자열 출력 시 불편함을 해결하기위한 방법입니다.\r\n",
        "\r\n",
        "`.format` 포맷팅을 사용하고 %와 동일한 기능을 지원합니다. 변수 타입과 상관없이 괄호와 숫자만 이용합니다."
      ]
    },
    {
      "cell_type": "code",
      "metadata": {
        "id": "SqBQ9-Ivba54"
      },
      "source": [
        "MAX=10001\r\n",
        "a = [0]*MAX\r\n",
        "f = open(0)\r\n",
        "f.readline()\r\n",
        "for i in f:\r\n",
        "    a[int(i)]+=1\r\n",
        "for i in range(MAX):\r\n",
        "    print(\"%s\\n\" % i*a[i], end=\"\")"
      ],
      "execution_count": null,
      "outputs": []
    },
    {
      "cell_type": "markdown",
      "metadata": {
        "id": "9jgl9Ihni3Im"
      },
      "source": [
        "10,001을 MAX라는 값으로 지정해두고 사용합니다.\r\n",
        "\r\n",
        "print에서 `end=\"\"` 는 문장 출력 후 마지막에 무엇을 쓰고 끝낼지 정하는 옵션인데, Default값은 `end=\"\\n`\"로 개행이 기본옵션입니다.\r\n",
        "\r\n",
        "이 코드에서는 문자열 포맷팅 시 % 포맷팅을 사용하여 포맷 스트링을 %s를 사용하여 출력해줍니다."
      ]
    },
    {
      "cell_type": "markdown",
      "metadata": {
        "id": "aV-KjZK1apTd"
      },
      "source": [
        "**숏 코딩**"
      ]
    },
    {
      "cell_type": "code",
      "metadata": {
        "id": "43ejnKKVaqgS"
      },
      "source": [
        "E=5**6\r\n",
        "l=[0]*E\r\n",
        "f=open(0)\r\n",
        "f.readline()\r\n",
        "for i in f:l[int(i)]+=1\r\n",
        "for i in range(E):print(\"%s\\n\"%i*l[i],end=\"\")"
      ],
      "execution_count": null,
      "outputs": []
    },
    {
      "cell_type": "markdown",
      "metadata": {
        "id": "e-XFyZoMqM44"
      },
      "source": [
        "코드 자체는 다른풀이에 있는 것과 비슷합니다.\r\n",
        "\r\n",
        "첫 줄에 있는 `E=5**6`이 어떤 기능을 하는지 분석해봤는데 단순 산술연산자로 5<sup>6</sup>하여 15,625 크기의 배열을 할당해주는 변수입니다."
      ]
    },
    {
      "cell_type": "code",
      "metadata": {
        "id": "0iJ5iopaaxqk"
      },
      "source": [
        "n=10001;a=[0]*n;f=open(0);f.readline()\r\n",
        "for i in f:a[int(i)]+=1\r\n",
        "for i in range(n):print(\"%s\\n\"%i*a[i],end=\"\")"
      ],
      "execution_count": null,
      "outputs": []
    },
    {
      "cell_type": "markdown",
      "metadata": {
        "id": "fnH2zIxQcwq8"
      },
      "source": [
        "**배운점**\r\n",
        "\r\n",
        "1.   계수 정렬(Counting Sort)\r\n",
        "2.   `open(0)`\r\n",
        "3.   `readline()`\r\n",
        "4.   문자열 포맷팅 `print(f)`, `%`, `format`\r\n",
        "5.   반복자와 생성기 `iter()`, `next()`\r\n",
        "6.   `stdout.write()`\r\n",
        "\r\n"
      ]
    }
  ]
}