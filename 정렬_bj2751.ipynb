{
  "nbformat": 4,
  "nbformat_minor": 0,
  "metadata": {
    "colab": {
      "name": "정렬_bj2751.ipynb",
      "provenance": [],
      "authorship_tag": "ABX9TyOxCg1TTYs72O5OyAfD3UxX",
      "include_colab_link": true
    },
    "kernelspec": {
      "name": "python3",
      "display_name": "Python 3"
    }
  },
  "cells": [
    {
      "cell_type": "markdown",
      "metadata": {
        "id": "view-in-github",
        "colab_type": "text"
      },
      "source": [
        "<a href=\"https://colab.research.google.com/github/ch33233/Codingtest/blob/main/%EC%A0%95%EB%A0%AC_bj2751.ipynb\" target=\"_parent\"><img src=\"https://colab.research.google.com/assets/colab-badge.svg\" alt=\"Open In Colab\"/></a>"
      ]
    },
    {
      "cell_type": "markdown",
      "metadata": {
        "id": "pn9vXfZGhRtL"
      },
      "source": [
        "# **백준 2751번 수 정렬하기2 - 정렬**\r\n",
        "\r\n",
        "https://www.acmicpc.net/problem/2751\r\n",
        "\r\n",
        "# 문제\r\n",
        "\r\n",
        "N개의 수가 주어졌을 때, 이를 오름차순으로 정렬하는 프로그램을 작성하시오.\r\n",
        "\r\n",
        "# 입력\r\n",
        "\r\n",
        "첫째 줄에 수의 개수 N(1 ≤ N ≤ 1,000,000)이 주어진다. 둘째 줄부터 N개의 줄에는 숫자가 주어진다. 이 수는 절댓값이 1,000,000보다 작거나 같은 정수이다. 수는 중복되지 않는다.\r\n",
        "\r\n",
        "# 출력\r\n",
        "\r\n",
        "첫째 줄부터 N개의 줄에 오름차순으로 정렬한 결과를 한 줄에 하나씩 출력한다.\r\n"
      ]
    },
    {
      "cell_type": "markdown",
      "metadata": {
        "id": "A1QGKGDmiyT0"
      },
      "source": [
        "**내 풀이**\r\n",
        "\r\n"
      ]
    },
    {
      "cell_type": "code",
      "metadata": {
        "id": "xag4nc06jlW7"
      },
      "source": [
        "import sys\r\n",
        "n = int(sys.stdin.readline().strip())\r\n",
        "a = []\r\n",
        "for i in range(n):\r\n",
        "\ta.append(int(sys.stdin.readline().strip()))\r\n",
        "\r\n",
        "a.sort()\r\n",
        "\r\n",
        "for i in range(n):\r\n",
        "\tprint(a[i])"
      ],
      "execution_count": null,
      "outputs": []
    },
    {
      "cell_type": "code",
      "metadata": {
        "id": "3DYWe2nXhTEv"
      },
      "source": [
        "print(*sorted(map(int,[*open(0)][1:])))"
      ],
      "execution_count": null,
      "outputs": []
    },
    {
      "cell_type": "markdown",
      "metadata": {
        "id": "gHGpeADRkoUe"
      },
      "source": [
        "이전에 풀었던 2750번과 문제의 구조는 동일하지만 수의 범위가 늘어나 시간복잡도 관련 문제인 것으로 생각하여 시간을 단축시키기위해서 input() 대신 import sys 하여 sys.stdin.readline()으로 풀었습니다.\r\n",
        "\r\n",
        "파이썬 기본 정렬 함수의 시간 복잡도는 O(nlog(n))로 잘 구성되어있어서 이를 활용해서 푼 이전 풀이와 동일하게 풀었습니다."
      ]
    },
    {
      "cell_type": "markdown",
      "metadata": {
        "id": "jQ3oUTkKjxKf"
      },
      "source": [
        "**다른 풀이**"
      ]
    },
    {
      "cell_type": "code",
      "metadata": {
        "id": "Yg8htgL7jySR"
      },
      "source": [
        "import io\r\n",
        "import os\r\n",
        "import sys\r\n",
        "input = io.BytesIO(os.read(0, os.fstat(0).st_size)).readline\r\n",
        "sys.stdout.write('\\n'.join(map(str, sorted(map(int, (input() for _ in range(int(input()))))))))"
      ],
      "execution_count": null,
      "outputs": []
    },
    {
      "cell_type": "code",
      "metadata": {
        "id": "Jo5I4ab1oAZB"
      },
      "source": [
        "from sys import stdin, stdout\r\n",
        "\r\n",
        "class CS:\r\n",
        "    def __init__(self):\r\n",
        "        self.n = 1000000\r\n",
        "        self.m = self.n * 2 + 1\r\n",
        "        self.a = [False, ] * self.m\r\n",
        "\r\n",
        "    def add(self, x):\r\n",
        "        self.a[x if x >= 0 else (-x + self.n)] = True\r\n",
        "\r\n",
        "    def add_many(self, xs):\r\n",
        "        for x in xs:\r\n",
        "            self.add(x)\r\n",
        "\r\n",
        "    def to_list(self):\r\n",
        "        result = []\r\n",
        "        for i in range(self.m - 1, self.n, -1):\r\n",
        "            if self.a[i]:\r\n",
        "                result.append(-(i - self.n))\r\n",
        "        for i in range(self.n + 1):\r\n",
        "            if self.a[i]:\r\n",
        "                result.append(i)\r\n",
        "        return result\r\n",
        "\r\n",
        "\r\n",
        "if __name__ == '__main__':\r\n",
        "    stdin.readline()\r\n",
        "    xs = map(int, stdin.read().split())\r\n",
        "    cs = CS()\r\n",
        "    cs.add_many(xs)\r\n",
        "    result = cs.to_list()\r\n",
        "    rs = map(str, result)\r\n",
        "    stdout.write('\\n'.join(rs))"
      ],
      "execution_count": null,
      "outputs": []
    },
    {
      "cell_type": "code",
      "metadata": {
        "id": "nukJ8IGNmqy6"
      },
      "source": [
        "import sys\r\n",
        "n = int(sys.stdin.readline())\r\n",
        "a = sorted(list(map(int,sys.stdin.read().split())))\r\n",
        "print('\\n'.join(map(str,a)))"
      ],
      "execution_count": null,
      "outputs": []
    },
    {
      "cell_type": "markdown",
      "metadata": {
        "id": "s9M-svovmR71"
      },
      "source": [
        "알고리즘적으로 들어가면, 2750번 수 정렬하기는 시간복잡도가 O(n^2)인 삽입정렬, 버블정렬로 풀어도 상관없지만, 이 문제는 시간복잡도가 O(nlogn) 알고리즘인 merge sort 혹은 heap sort quick sort로 풀어야한다."
      ]
    },
    {
      "cell_type": "code",
      "metadata": {
        "id": "Ddgg3uudoIJx"
      },
      "source": [
        "import sys\r\n",
        "readline = sys.stdin.readline\r\n",
        "def main():\r\n",
        "    N = int(readline())\r\n",
        "\r\n",
        "    arr = [int(readline()) for _ in range(N)]\r\n",
        "    \r\n",
        "    # quick_sort(arr, 0, len(arr)-1)\r\n",
        "    arr.sort()\r\n",
        "    for num in arr:\r\n",
        "        print(num)\r\n",
        "        \r\n",
        "def quick_sort(arr, start, end):\r\n",
        "    if start < end:\r\n",
        "        flag = partition(arr, start, end)\r\n",
        "        quick_sort(arr, start, flag-1)\r\n",
        "        quick_sort(arr, flag+1, end)\r\n",
        "\r\n",
        "def partition(arr, start, end):\r\n",
        "    x = arr[end]\r\n",
        "    i = start\r\n",
        "    \r\n",
        "    for j in range(start, end):\r\n",
        "        if i <= end and arr[j] < x:\r\n",
        "            temp = arr[i]\r\n",
        "            arr[i] = arr[j]\r\n",
        "            arr[j] = temp\r\n",
        "            i += 1\r\n",
        "    \r\n",
        "    temp = arr[end]\r\n",
        "    arr[end] = arr[i]\r\n",
        "    arr[i] = x\r\n",
        "    return i\r\n",
        "\r\n",
        "if __name__ == \"__main__\":\r\n",
        "    main()"
      ],
      "execution_count": null,
      "outputs": []
    },
    {
      "cell_type": "code",
      "metadata": {
        "id": "j-Hff1IwmIO8"
      },
      "source": [
        "def merge_sort(array):\r\n",
        "    if len(array)<=1:\r\n",
        "        return array\r\n",
        "    mid = len(array) // 2\r\n",
        "    left = merge_sort(array[:mid])\r\n",
        "    right = merge_sort(array[mid:])\r\n",
        "\r\n",
        "    i,j,k = 0,0,0\r\n",
        "\r\n",
        "    while i < len(left) and j <len(right):\r\n",
        "        if left[i] < right[j]:\r\n",
        "            array[k] = left[i]\r\n",
        "            i += 1\r\n",
        "        else:\r\n",
        "            array[k] = right[j]\r\n",
        "            j += 1\r\n",
        "        k+=1\r\n",
        "    \r\n",
        "    if i==len(left):\r\n",
        "        while j < len(right):\r\n",
        "            array[k] = right[j]\r\n",
        "            j += 1\r\n",
        "            k += 1\r\n",
        "    elif j==len(right):\r\n",
        "        while i < len(left):\r\n",
        "            array[k] = left[i]\r\n",
        "            i += 1\r\n",
        "            k += 1\r\n",
        "    return array\r\n",
        "\r\n",
        "# 데이터 입력\r\n",
        "n=int(input())\r\n",
        "num = []\r\n",
        "\r\n",
        "for _ in range(n):\r\n",
        "    num.append(int(input()))\r\n",
        "\r\n",
        "num = merge_sort(num)\r\n",
        "\r\n",
        "for i in num:\r\n",
        "    print(i)"
      ],
      "execution_count": null,
      "outputs": []
    },
    {
      "cell_type": "markdown",
      "metadata": {
        "id": "DhW6o9Pzjy2N"
      },
      "source": [
        "**숏 코딩**"
      ]
    },
    {
      "cell_type": "code",
      "metadata": {
        "id": "5-_CdwP3j0yA"
      },
      "source": [
        "print(*sorted(map(int,[*open(0)][1:])))"
      ],
      "execution_count": null,
      "outputs": []
    },
    {
      "cell_type": "code",
      "metadata": {
        "id": "XYxv4sxdj-iy"
      },
      "source": [
        "import sys;print(*sorted(map(int,[*sys.stdin][1:])))"
      ],
      "execution_count": null,
      "outputs": []
    }
  ]
}