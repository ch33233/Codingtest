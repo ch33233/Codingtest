{
  "nbformat": 4,
  "nbformat_minor": 0,
  "metadata": {
    "colab": {
      "name": "Greedy_bj1946.ipynb",
      "provenance": [],
      "authorship_tag": "ABX9TyN+55EAKA7S1Gnc8q05PHTo",
      "include_colab_link": true
    },
    "kernelspec": {
      "name": "python3",
      "display_name": "Python 3"
    }
  },
  "cells": [
    {
      "cell_type": "markdown",
      "metadata": {
        "id": "view-in-github",
        "colab_type": "text"
      },
      "source": [
        "<a href=\"https://colab.research.google.com/github/ch33233/Codingtest/blob/main/Greedy_bj1946.ipynb\" target=\"_parent\"><img src=\"https://colab.research.google.com/assets/colab-badge.svg\" alt=\"Open In Colab\"/></a>"
      ]
    },
    {
      "cell_type": "markdown",
      "metadata": {
        "id": "0_4rHkWy1CMb"
      },
      "source": [
        "# **백준 1946번 신입 사원 - Greedy Algorithm**\r\n",
        "\r\n",
        "https://www.acmicpc.net/problem/1946\r\n",
        "\r\n",
        "# 문제\r\n",
        "\r\n",
        "언제나 최고만을 지향하는 굴지의 대기업 진영 주식회사가 신규 사원 채용을 실시한다. 인재 선발 시험은 1차 서류심사와 2차 면접시험으로 이루어진다. 최고만을 지향한다는 기업의 이념에 따라 그들은 최고의 인재들만을 사원으로 선발하고 싶어 한다.\r\n",
        "\r\n",
        "그래서 진영 주식회사는, 다른 모든 지원자와 비교했을 때 서류심사 성적과 면접시험 성적 중 적어도 하나가 다른 지원자보다 떨어지지 않는 자만 선발한다는 원칙을 세웠다. 즉, 어떤 지원자 A의 성적이 다른 어떤 지원자 B의 성적에 비해 서류 심사 결과와 면접 성적이 모두 떨어진다면 A는 결코 선발되지 않는다.\r\n",
        "\r\n",
        "이러한 조건을 만족시키면서, 진영 주식회사가 이번 신규 사원 채용에서 선발할 수 있는 신입사원의 최대 인원수를 구하는 프로그램을 작성하시오.\r\n",
        "\r\n",
        "\r\n",
        "---\r\n",
        "\r\n",
        "\r\n",
        "# 입력\r\n",
        "\r\n",
        "첫째 줄에는 테스트 케이스의 개수 T(1 ≤ T ≤ 20)가 주어진다. 각 테스트 케이스의 첫째 줄에 지원자의 숫자 N(1 ≤ N ≤ 100,000)이 주어진다. 둘째 줄부터 N개 줄에는 각각의 지원자의 서류심사 성적, 면접 성적의 순위가 공백을 사이에 두고 한 줄에 주어진다. 두 성적 순위는 모두 1위부터 N위까지 동석차 없이 결정된다고 가정한다.\r\n",
        "\r\n",
        "\r\n",
        "---\r\n",
        "\r\n",
        "\r\n",
        "# 출력\r\n",
        "\r\n",
        "각 테스트 케이스에 대해서 진영 주식회사가 선발할 수 있는 신입사원의 최대 인원수를 한 줄에 하나씩 출력한다."
      ]
    },
    {
      "cell_type": "markdown",
      "metadata": {
        "id": "XK_ewud41jS_"
      },
      "source": [
        "**내 풀이**"
      ]
    },
    {
      "cell_type": "code",
      "metadata": {
        "id": "zChp9B9-1BPq"
      },
      "source": [
        "import sys\r\n",
        "\r\n",
        "t = int(sys.stdin.readline().strip())\r\n",
        "\r\n",
        "for _ in range(t):\r\n",
        "\tn = int(sys.stdin.readline().strip())\r\n",
        "\tarray = [list(map(int, sys.stdin.readline().split())) for _ in range(n)]\r\n",
        "\tp = n\r\n",
        "\tfor x,y in array:\r\n",
        "\t\tflag = 0\r\n",
        "\t\tfor k in array:\r\n",
        "\t\t\tif x > k[0]:\r\n",
        "\t\t\t\tif y > k[1]:\r\n",
        "\t\t\t\t\tflag = 1\r\n",
        "\t\tif flag == 1:\r\n",
        "\t\t\tp -= 1\r\n",
        "\tprint(p)"
      ],
      "execution_count": null,
      "outputs": []
    },
    {
      "cell_type": "markdown",
      "metadata": {
        "id": "PR9CrRyA21yp"
      },
      "source": [
        "이 풀이는 지원자 각각의 서류심사, 면접성적의 순위를 각각 하나하나 비교해나가며 두 성적의 순위가 모두 다른 지원자의 순위보다 낮을 경우 합격자 명단에서 제외시키는 방법입니다.\r\n",
        "\r\n",
        "하지만 이러한 방법으로 풀 경우, 하나의 테스트케이스마다 10만번에서 최대 200만번의 입력이 이뤄지는데 모든 수에 대해서 일일히 검사를 해야하기 때문에 시간초과가 발생합니다."
      ]
    },
    {
      "cell_type": "code",
      "metadata": {
        "id": "UaG5Vro554LC"
      },
      "source": [
        "import sys\r\n",
        "\r\n",
        "t = int(sys.stdin.readline().strip())\r\n",
        "\r\n",
        "for _ in range(t):\r\n",
        "\tn = int(sys.stdin.readline().strip())\r\n",
        "\tarr = [list(map(int, sys.stdin.readline().split())) for _ in range(n)]\r\n",
        "\tarr.sort(key = lambda x : x[0])\r\n",
        "\t\r\n",
        "\tmin = arr[0][1]\r\n",
        "\tcount = 0\r\n",
        "\tfor i in range(1, n):\r\n",
        "\t\tif arr[i][1] > min:\r\n",
        "\t\t\tcount += 1\r\n",
        "\t\telse:\r\n",
        "\t\t\tmin = arr[i][1]\r\n",
        "\tprint(n-count)"
      ],
      "execution_count": null,
      "outputs": []
    },
    {
      "cell_type": "markdown",
      "metadata": {
        "id": "YLB_HAme-_Og"
      },
      "source": [
        "서류심사 성적을 기준으로 오름차순으로 정렬한 후, 면접성적만 확인하면서 검사를 합니다.\r\n",
        "min보다 작은 값이 존재하면 min에 저장하고 min보다 크면 count를 증가시킵니다."
      ]
    },
    {
      "cell_type": "markdown",
      "metadata": {
        "id": "mlVxyvPd1o-V"
      },
      "source": [
        "**다른 풀이**"
      ]
    },
    {
      "cell_type": "code",
      "metadata": {
        "id": "kxQYQtFD_rgl"
      },
      "source": [
        "from sys import stdin\r\n",
        "\r\n",
        "input = stdin.readline\r\n",
        "\r\n",
        "\r\n",
        "def solve():\r\n",
        "    minRet = testRet[1]\r\n",
        "    loser = 0\r\n",
        "\r\n",
        "    for i in range(2, n + 1):\r\n",
        "        if testRet[i] > minRet:\r\n",
        "            loser += 1\r\n",
        "        else:\r\n",
        "            minRet = testRet[i]\r\n",
        "\r\n",
        "    return n - loser\r\n",
        "\r\n",
        "\r\n",
        "if __name__ == '__main__':\r\n",
        "    t = int(input())\r\n",
        "\r\n",
        "    for _ in range(t):\r\n",
        "        n = int(input())\r\n",
        "        testRet = [0 for _ in range(n + 1)]\r\n",
        "\r\n",
        "        for _ in range(n):\r\n",
        "            test1, test2 = map(int, input().split())\r\n",
        "            testRet[test1] = test2\r\n",
        "\r\n",
        "        print(solve())\r\n"
      ],
      "execution_count": null,
      "outputs": []
    },
    {
      "cell_type": "code",
      "metadata": {
        "id": "2qT_P1Zj1ojz"
      },
      "source": [
        "import sys\r\n",
        "input = sys.stdin.readline\r\n",
        "t = int(input())\r\n",
        "for i in range(t):\r\n",
        "    n = int(input())\r\n",
        "    s = [0 for i in range(n + 1)]\r\n",
        "    for j in range(n):\r\n",
        "        a, b = map(int, input().split())\r\n",
        "        s[a] = b\r\n",
        "    min_n = s[1]\r\n",
        "    cnt = 0\r\n",
        "    for k in range(2, n + 1):\r\n",
        "        if s[k] > min_n:\r\n",
        "            cnt += 1\r\n",
        "        else:\r\n",
        "            min_n = s[k]        \r\n",
        "    print(n - cnt)"
      ],
      "execution_count": null,
      "outputs": []
    },
    {
      "cell_type": "markdown",
      "metadata": {
        "id": "nBqzS_VB_uXs"
      },
      "source": [
        "이 풀이는 2차원 배열을 사용하지않고, 1차원배열만으로 오름차순 정렬을 먼저 시켜두고 검사를 합니다."
      ]
    },
    {
      "cell_type": "markdown",
      "metadata": {
        "id": "Y8BlVn9X1qUh"
      },
      "source": [
        "**숏 코딩**"
      ]
    },
    {
      "cell_type": "code",
      "metadata": {
        "id": "3RFqmAKT2P7R"
      },
      "source": [
        "import sys\r\n",
        "for _ in range(int(input())):\r\n",
        " r=0;x=9e9\r\n",
        " for p,q in sorted([*map(int,sys.stdin.readline().split())]for i in range(int(input()))):\r\n",
        "  if q<x:x=q;r+=1\r\n",
        " print(r)"
      ],
      "execution_count": null,
      "outputs": []
    },
    {
      "cell_type": "code",
      "metadata": {
        "id": "EweugPyQAuDg"
      },
      "source": [
        "import sys\r\n",
        "I,R=sys.stdin.readline,range\r\n",
        "for _ in R(int(I())):\r\n",
        "    s=sorted([[*map(int,I().split())]for t in R(int(I()))])\r\n",
        "    c,m=0,s[0][1]\r\n",
        "    for i,v in s:c+=m>=v;m=min(m,v)\r\n",
        "    print(c)"
      ],
      "execution_count": null,
      "outputs": []
    },
    {
      "cell_type": "code",
      "metadata": {
        "id": "h-J5KzqsAzPw"
      },
      "source": [
        "import sys\r\n",
        "input=sys.stdin.readline\r\n",
        "for _ in range(int(input())):\r\n",
        "  n=int(input())\r\n",
        "  s=[[*map(int,input().split())] for _ in range(n)]\r\n",
        "  s.sort(key=lambda t: t[0])\r\n",
        "  m=n+1; c=0\r\n",
        "  for x in [s[i][1] for i in range(n)]:\r\n",
        "    if m>x:\r\n",
        "      c+=1; m=x\r\n",
        "  print(c)"
      ],
      "execution_count": null,
      "outputs": []
    },
    {
      "cell_type": "code",
      "metadata": {
        "id": "3Q6yNDWSA0Nz"
      },
      "source": [
        "import sys\r\n",
        "\r\n",
        "for _ in range(int(input())):\r\n",
        "    n = int(input())\r\n",
        "    score = sorted([tuple(map(int, sys.stdin.readline().split())) for _ in range(n)], key=lambda x:x[0])\r\n",
        "    ans = 0\r\n",
        "    for a, b in score:\r\n",
        "        if n >= b:\r\n",
        "            ans += 1\r\n",
        "            n = b\r\n",
        "    print(ans)\r\n"
      ],
      "execution_count": null,
      "outputs": []
    }
  ]
}