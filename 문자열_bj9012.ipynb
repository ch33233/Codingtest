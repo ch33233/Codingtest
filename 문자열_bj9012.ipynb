{
  "nbformat": 4,
  "nbformat_minor": 0,
  "metadata": {
    "colab": {
      "name": "문자열_bj9012.ipynb",
      "provenance": [],
      "authorship_tag": "ABX9TyN0Nly6csjGIFFQQy/sW02L",
      "include_colab_link": true
    },
    "kernelspec": {
      "name": "python3",
      "display_name": "Python 3"
    }
  },
  "cells": [
    {
      "cell_type": "markdown",
      "metadata": {
        "id": "view-in-github",
        "colab_type": "text"
      },
      "source": [
        "<a href=\"https://colab.research.google.com/github/ch33233/Codingtest/blob/main/%EB%AC%B8%EC%9E%90%EC%97%B4_bj9012.ipynb\" target=\"_parent\"><img src=\"https://colab.research.google.com/assets/colab-badge.svg\" alt=\"Open In Colab\"/></a>"
      ]
    },
    {
      "cell_type": "markdown",
      "metadata": {
        "id": "qlWBOjDuaVHs"
      },
      "source": [
        "# **백준 9012번 괄호 - 문자열**\r\n",
        "\r\n",
        "https://www.acmicpc.net/problem/9012\r\n",
        "\r\n",
        "# 문제\r\n",
        "\r\n",
        "괄호 문자열(Parenthesis String, PS)은 두 개의 괄호 기호인 ‘(’ 와 ‘)’ 만으로 구성되어 있는 문자열이다. 그 중에서 괄호의 모양이 바르게 구성된 문자열을 올바른 괄호 문자열(Valid PS, VPS)이라고 부른다. 한 쌍의 괄호 기호로 된 “( )” 문자열은 기본 VPS 이라고 부른다. 만일 x 가 VPS 라면 이것을 하나의 괄호에 넣은 새로운 문자열 “(x)”도 VPS 가 된다. 그리고 두 VPS x 와 y를 접합(concatenation)시킨 새로운 문자열 xy도 VPS 가 된다. 예를 들어 “(())()”와 “((()))” 는 VPS 이지만 “(()(”, “(())()))” , 그리고 “(()” 는 모두 VPS 가 아닌 문자열이다. \r\n",
        "\r\n",
        "여러분은 입력으로 주어진 괄호 문자열이 VPS 인지 아닌지를 판단해서 그 결과를 YES 와 NO 로 나타내어야 한다. \r\n",
        "\r\n",
        "\r\n",
        "---\r\n",
        "\r\n",
        "\r\n",
        "# 입력\r\n",
        "\r\n",
        "입력 데이터는 표준 입력을 사용한다. 입력은 T개의 테스트 데이터로 주어진다. 입력의 첫 번째 줄에는 입력 데이터의 수를 나타내는 정수 T가 주어진다. 각 테스트 데이터의 첫째 줄에는 괄호 문자열이 한 줄에 주어진다. 하나의 괄호 문자열의 길이는 2 이상 50 이하이다. \r\n",
        "\r\n",
        "\r\n",
        "---\r\n",
        "\r\n",
        "\r\n",
        "# 출력\r\n",
        "\r\n",
        "출력은 표준 출력을 사용한다. 만일 입력 괄호 문자열이 올바른 괄호 문자열(VPS)이면 “YES”, 아니면 “NO”를 한 줄에 하나씩 차례대로 출력해야 한다. \r\n"
      ]
    },
    {
      "cell_type": "markdown",
      "metadata": {
        "id": "gXjs7Zw6atmW"
      },
      "source": [
        "**내 풀이**"
      ]
    },
    {
      "cell_type": "code",
      "metadata": {
        "id": "kT3hlP38aTzp"
      },
      "source": [
        "import sys\r\n",
        "n = int(sys.stdin.readline().strip())\r\n",
        "for _ in range(n):\r\n",
        "\tlists=sys.stdin.readline().strip()\r\n",
        "\tcount = 0\r\n",
        "\tfor i in lists:\r\n",
        "\t\tif i == '(':\r\n",
        "\t\t\tcount += 1\r\n",
        "\t\telse :\r\n",
        "\t\t\tcount -= 1\r\n",
        "\t\t\r\n",
        "\t\tif count < 0:\r\n",
        "\t\t\tbreak\r\n",
        "\t\r\n",
        "\tif count != 0:\r\n",
        "\t\tprint('NO')\r\n",
        "\telse:\r\n",
        "\t\tprint('YES')"
      ],
      "execution_count": null,
      "outputs": []
    },
    {
      "cell_type": "markdown",
      "metadata": {
        "id": "KPZbqr17avQN"
      },
      "source": [
        "**다른 풀이**"
      ]
    },
    {
      "cell_type": "code",
      "metadata": {
        "id": "42b0XjL1aStQ"
      },
      "source": [
        "import sys\r\n",
        "\r\n",
        "T = int(sys.stdin.readline())\r\n",
        "\r\n",
        "\r\n",
        "for _ in range(T):\r\n",
        "    D = sys.stdin.readline().strip()\r\n",
        "    stack = []\r\n",
        "    for p in D:\r\n",
        "        if p == '(':\r\n",
        "            stack.append(p)\r\n",
        "        else:\r\n",
        "            if len(stack):\r\n",
        "                stack.pop()\r\n",
        "            else:\r\n",
        "                print('NO')\r\n",
        "                break\r\n",
        "    else:\r\n",
        "        if stack:\r\n",
        "            print('NO')\r\n",
        "        else:\r\n",
        "            print('YES')"
      ],
      "execution_count": null,
      "outputs": []
    },
    {
      "cell_type": "markdown",
      "metadata": {
        "id": "ShTM0BgmbIpF"
      },
      "source": [
        "처음 생각했던 방법과 비슷합니다. 스택을 만들어두고, 스택안에 '('를 넣은 후, ')'가 올 경우, pop을 하는 방식입니다."
      ]
    },
    {
      "cell_type": "markdown",
      "metadata": {
        "id": "TgFNIFdlawSi"
      },
      "source": [
        "**숏 코딩**"
      ]
    },
    {
      "cell_type": "code",
      "metadata": {
        "id": "d2gSfaqjax9Z"
      },
      "source": [
        "exec((\"print(['NO','YES'][not input()\"+\".replace('()','')\"*25+\"]);\")*int(input()))"
      ],
      "execution_count": null,
      "outputs": []
    },
    {
      "cell_type": "code",
      "metadata": {
        "id": "iAGqHz9obgH_"
      },
      "source": [
        "exec(\"s=input()\\nwhile s.count('()')!=0:s=s.replace('()','')\\nprint('NO' if s else 'YES')\\n\"*int(input()))"
      ],
      "execution_count": null,
      "outputs": []
    },
    {
      "cell_type": "code",
      "metadata": {
        "id": "PiXivGbqbajj"
      },
      "source": [
        "for _ in[0]*int(input()):\r\n",
        "\ts=input()\r\n",
        "\tfor z in s:s=s.replace('()','');\r\n",
        "\tprint(s and'NO'or'YES')"
      ],
      "execution_count": null,
      "outputs": []
    }
  ]
}