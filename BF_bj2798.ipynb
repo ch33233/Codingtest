{
  "nbformat": 4,
  "nbformat_minor": 0,
  "metadata": {
    "colab": {
      "name": "Untitled0.ipynb",
      "provenance": [],
      "authorship_tag": "ABX9TyOIYt2tsbDcwTvoeO8eZINv",
      "include_colab_link": true
    },
    "kernelspec": {
      "name": "python3",
      "display_name": "Python 3"
    }
  },
  "cells": [
    {
      "cell_type": "markdown",
      "metadata": {
        "id": "view-in-github",
        "colab_type": "text"
      },
      "source": [
        "<a href=\"https://colab.research.google.com/github/ch33233/Codingtest/blob/main/BF_bj2798.ipynb\" target=\"_parent\"><img src=\"https://colab.research.google.com/assets/colab-badge.svg\" alt=\"Open In Colab\"/></a>"
      ]
    },
    {
      "cell_type": "markdown",
      "metadata": {
        "id": "Be8dnu6Ueb6B"
      },
      "source": [
        "# **백준 2798번 블랙잭 - BF**\r\n",
        "\r\n",
        "https://www.acmicpc.net/problem/2798\r\n",
        "\r\n",
        "# 문제\r\n",
        "\r\n",
        "카지노에서 제일 인기 있는 게임 블랙잭의 규칙은 상당히 쉽다. 카드의 합이 21을 넘지 않는 한도 내에서, 카드의 합을 최대한 크게 만드는 게임이다. 블랙잭은 카지노마다 다양한 규정이 있다.\r\n",
        "\r\n",
        "\r\n",
        "---\r\n",
        "\r\n",
        "\r\n",
        "한국 최고의 블랙잭 고수 김정인은 새로운 블랙잭 규칙을 만들어 상근, 창영이와 게임하려고 한다.\r\n",
        "\r\n",
        "김정인 버전의 블랙잭에서 각 카드에는 양의 정수가 쓰여 있다. 그 다음, 딜러는 N장의 카드를 모두 숫자가 보이도록 바닥에 놓는다. 그런 후에 딜러는 숫자 M을 크게 외친다.\r\n",
        "\r\n",
        "이제 플레이어는 제한된 시간 안에 N장의 카드 중에서 3장의 카드를 골라야 한다. 블랙잭 변형 게임이기 때문에, 플레이어가 고른 카드의 합은 M을 넘지 않으면서 M과 최대한 가깝게 만들어야 한다.\r\n",
        "\r\n",
        "N장의 카드에 써져 있는 숫자가 주어졌을 때, M을 넘지 않으면서 M에 최대한 가까운 카드 3장의 합을 구해 출력하시오."
      ]
    },
    {
      "cell_type": "code",
      "metadata": {
        "id": "EGtRrH8ndnH3"
      },
      "source": [
        "import sys\r\n",
        "n = list(map(int, sys.stdin.readline().split()))\r\n",
        "a = list(map(int, sys.stdin.readline().split()))\r\n",
        "answer = 0\r\n",
        "\r\n",
        "for i in range(0, n[0]-2):\r\n",
        "    for j in range(i+1, n[0]-1):\r\n",
        "        for k in range(j+1, n[0]):\r\n",
        "            sumlist = a[i]+a[j]+a[k]\r\n",
        "            if(sumlist > n[1]):\r\n",
        "                continue\r\n",
        "            answer = max(sumlist, answer)\r\n",
        "\r\n",
        "print(answer)"
      ],
      "execution_count": null,
      "outputs": []
    }
  ]
}