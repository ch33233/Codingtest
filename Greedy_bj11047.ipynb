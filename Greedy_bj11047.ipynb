{
  "nbformat": 4,
  "nbformat_minor": 0,
  "metadata": {
    "colab": {
      "name": "Greedy_bj11047.ipynb",
      "provenance": [],
      "authorship_tag": "ABX9TyMw6VEjGFpBzGcCr+/j8E18",
      "include_colab_link": true
    },
    "kernelspec": {
      "name": "python3",
      "display_name": "Python 3"
    }
  },
  "cells": [
    {
      "cell_type": "markdown",
      "metadata": {
        "id": "view-in-github",
        "colab_type": "text"
      },
      "source": [
        "<a href=\"https://colab.research.google.com/github/ch33233/Codingtest/blob/main/Greedy_bj11047.ipynb\" target=\"_parent\"><img src=\"https://colab.research.google.com/assets/colab-badge.svg\" alt=\"Open In Colab\"/></a>"
      ]
    },
    {
      "cell_type": "markdown",
      "metadata": {
        "id": "VF9PMYqU8yzB"
      },
      "source": [
        "# **백준 11047번 동전 0 - Greedy Alogorithm**\r\n",
        "\r\n",
        "https://www.acmicpc.net/problem/11047\r\n",
        "\r\n",
        "# 문제\r\n",
        "\r\n",
        "준규가 가지고 있는 동전은 총 N종류이고, 각각의 동전을 매우 많이 가지고 있다.\r\n",
        "\r\n",
        "동전을 적절히 사용해서 그 가치의 합을 K로 만들려고 한다. 이때 필요한 동전 개수의 최솟값을 구하는 프로그램을 작성하시오.\r\n",
        "\r\n",
        "\r\n",
        "---\r\n",
        "\r\n",
        "\r\n",
        "# 입력\r\n",
        "\r\n",
        "첫째 줄에 N과 K가 주어진다. (1 ≤ N ≤ 10, 1 ≤ K ≤ 100,000,000)\r\n",
        "\r\n",
        "둘째 줄부터 N개의 줄에 동전의 가치 Ai가 오름차순으로 주어진다. (1 ≤ Ai ≤ 1,000,000, A1 = 1, i ≥ 2인 경우에 Ai는 Ai-1의 배수)\r\n",
        "\r\n",
        "\r\n",
        "---\r\n",
        "\r\n",
        "\r\n",
        "# 출력\r\n",
        "\r\n",
        "첫째 줄에 K원을 만드는데 필요한 동전 개수의 최솟값을 출력한다."
      ]
    },
    {
      "cell_type": "markdown",
      "metadata": {
        "id": "5C83Uj1D8_EJ"
      },
      "source": [
        "**내 풀이**"
      ]
    },
    {
      "cell_type": "code",
      "metadata": {
        "id": "LY4WTUfu8D1K"
      },
      "source": [
        "import sys\r\n",
        "\r\n",
        "n,k = map(int, sys.stdin.readline().split())\r\n",
        "a = [int(sys.stdin.readline().strip()) for _ in range(n)]\r\n",
        "a.sort(reverse=True)\r\n",
        "cnt = 0\r\n",
        "for i in a:\r\n",
        "\tif k//i>=1:\r\n",
        "\t\tcnt+=k//i\r\n",
        "\t\tk=k%i\r\n",
        "\telse:\r\n",
        "\t\tcontinue\r\n",
        "print(cnt)"
      ],
      "execution_count": null,
      "outputs": []
    },
    {
      "cell_type": "markdown",
      "metadata": {
        "id": "8_5iKKNZ9AmN"
      },
      "source": [
        "**다른 풀이**"
      ]
    },
    {
      "cell_type": "code",
      "metadata": {
        "id": "ugdHh4gU9B_M"
      },
      "source": [
        "N, K = map(int, input().split())\r\n",
        "\r\n",
        "Coins = []\r\n",
        "for i in range(N) : Coins.append(int(input()))\r\n",
        "\r\n",
        "\r\n",
        "ans = 0\r\n",
        "while K > 0 :\r\n",
        "    coin = Coins.pop()\r\n",
        "    ans += K // coin\r\n",
        "    K %= coin\r\n",
        "\r\n",
        "print(ans)"
      ],
      "execution_count": null,
      "outputs": []
    },
    {
      "cell_type": "markdown",
      "metadata": {
        "id": "FxQZPy_IBhZt"
      },
      "source": [
        "코드 자체가 내가 작성한 코드보다 훨씬 간결하고 보기쉽게 작성되어있다."
      ]
    },
    {
      "cell_type": "markdown",
      "metadata": {
        "id": "RRVed-h39CMo"
      },
      "source": [
        "**숏 코딩**"
      ]
    },
    {
      "cell_type": "code",
      "metadata": {
        "id": "D5VmfItI9DM9"
      },
      "source": [
        "p,*o=open(0)\r\n",
        "k=int(p[2:])\r\n",
        "c=0\r\n",
        "for i in map(int,o[::-1]):c+=k//i;k=k%i\r\n",
        "print(c)"
      ],
      "execution_count": null,
      "outputs": []
    },
    {
      "cell_type": "markdown",
      "metadata": {
        "id": "l_0JpMzL-l9G"
      },
      "source": [
        "p = 10 4200\r\n",
        "\r\n",
        "*o= 1\r\n",
        " 5\r\n",
        " 10\r\n",
        " 50\r\n",
        " 100\r\n",
        " 500\r\n",
        " 1000\r\n",
        " 5000\r\n",
        " 10000\r\n",
        " 50000\r\n",
        "\r\n",
        " o= ['1\\n', '5\\n', '10\\n', '50\\n', '100\\n', '500\\n', '1000\\n', '5000\\n', '10000\\n', '50000']\r\n",
        "\r\n",
        " k= 4200\r\n",
        "\r\n",
        " 각 함수들이 어떤 역할을 하는지 관찰해보기위해서 대입된 값을 출력해봤습니다. `k=int(p[2:])` 에서 int() 함수는 문자열 내 공백이 있으면 공백을 제거하고 정수를 반환합니다.\r\n",
        "\r\n",
        "`o[::-1]` 에서 문자열 슬라이싱 할 경우, `[::-1]`을 사용하면 문자열이 거꾸로됩니다.\r\n",
        "\r\n",
        "`[3::-1]`처럼 사용하면 3번 index부터 0번 index까지 역순으로 됩니다."
      ]
    }
  ]
}