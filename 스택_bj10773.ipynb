{
  "nbformat": 4,
  "nbformat_minor": 0,
  "metadata": {
    "colab": {
      "name": "스택_bj10773.ipynb",
      "provenance": [],
      "authorship_tag": "ABX9TyPpvJM7W1Iz3ebXKgCsd7nj",
      "include_colab_link": true
    },
    "kernelspec": {
      "name": "python3",
      "display_name": "Python 3"
    }
  },
  "cells": [
    {
      "cell_type": "markdown",
      "metadata": {
        "id": "view-in-github",
        "colab_type": "text"
      },
      "source": [
        "<a href=\"https://colab.research.google.com/github/ch33233/Codingtest/blob/main/%EC%8A%A4%ED%83%9D_bj10773.ipynb\" target=\"_parent\"><img src=\"https://colab.research.google.com/assets/colab-badge.svg\" alt=\"Open In Colab\"/></a>"
      ]
    },
    {
      "cell_type": "markdown",
      "metadata": {
        "id": "dat703cYaAKH"
      },
      "source": [
        "# **백준 10773번 제로 - 스택**\r\n",
        "\r\n",
        "https://www.acmicpc.net/problem/10773\r\n",
        "\r\n",
        "# 문제\r\n",
        "\r\n",
        "나코더 기장 재민이는 동아리 회식을 준비하기 위해서 장부를 관리하는 중이다.\r\n",
        "\r\n",
        "재현이는 재민이를 도와서 돈을 관리하는 중인데, 애석하게도 항상 정신없는 재현이는 돈을 실수로 잘못 부르는 사고를 치기 일쑤였다.\r\n",
        "\r\n",
        "재현이는 잘못된 수를 부를 때마다 0을 외쳐서, 가장 최근에 재민이가 쓴 수를 지우게 시킨다.\r\n",
        "\r\n",
        "재민이는 이렇게 모든 수를 받아 적은 후 그 수의 합을 알고 싶어 한다. 재민이를 도와주자!\r\n",
        "\r\n",
        "\r\n",
        "---\r\n",
        "\r\n",
        "\r\n",
        "# 입력\r\n",
        "\r\n",
        "첫 번째 줄에 정수 K가 주어진다. (1 ≤ K ≤ 100,000)\r\n",
        "\r\n",
        "이후 K개의 줄에 정수가 1개씩 주어진다. 정수는 0에서 1,000,000 사이의 값을 가지며, 정수가 \"0\" 일 경우에는 가장 최근에 쓴 수를 지우고, 아닐 경우 해당 수를 쓴다.\r\n",
        "\r\n",
        "정수가 \"0\"일 경우에 지울 수 있는 수가 있음을 보장할 수 있다.\r\n",
        "\r\n",
        "\r\n",
        "---\r\n",
        "\r\n",
        "\r\n",
        "# 출력\r\n",
        "\r\n",
        "재민이가 최종적으로 적어 낸 수의 합을 출력한다. 최종적으로 적어낸 수의 합은 231-1보다 작거나 같은 정수이다."
      ]
    },
    {
      "cell_type": "markdown",
      "metadata": {
        "id": "DC1Q1yeQaCM-"
      },
      "source": [
        "**내 풀이**"
      ]
    },
    {
      "cell_type": "code",
      "metadata": {
        "id": "5qTFQ-SOZ8UE"
      },
      "source": [
        "import sys\r\n",
        "K = int(sys.stdin.readline().strip())\r\n",
        "stack = []\r\n",
        "for _ in range(K):\r\n",
        "\tn = int(sys.stdin.readline().strip())\r\n",
        "\tif n == 0:\r\n",
        "\t\tstack.pop()\r\n",
        "\telse:\r\n",
        "\t\tstack.append(n)\r\n",
        "\r\n",
        "print(sum(stack))"
      ],
      "execution_count": null,
      "outputs": []
    },
    {
      "cell_type": "markdown",
      "metadata": {
        "id": "jN7oDDsEaEXC"
      },
      "source": [
        "**다른 풀이**"
      ]
    },
    {
      "cell_type": "code",
      "metadata": {
        "id": "n0fxAEaPaFpb"
      },
      "source": [
        "S=[]\r\n",
        "for K in range(int(input())):\r\n",
        " t=int(input())\r\n",
        " if t:S+=[t]\r\n",
        " else:S.pop()\r\n",
        "print(sum(S))"
      ],
      "execution_count": null,
      "outputs": []
    },
    {
      "cell_type": "markdown",
      "metadata": {
        "id": "ujSfjPn9aGDq"
      },
      "source": [
        "**숏 코딩**"
      ]
    },
    {
      "cell_type": "code",
      "metadata": {
        "id": "pxhjXDy4aH7q"
      },
      "source": [
        "z=[]\r\n",
        "for s in open(0):\r\n",
        " if a:=int(s):z+=[a]\r\n",
        " else:z=z[:-1]\r\n",
        "print(sum(z[1:]))"
      ],
      "execution_count": null,
      "outputs": []
    },
    {
      "cell_type": "code",
      "metadata": {
        "id": "FFHWqhezbuKQ"
      },
      "source": [
        "t=s=0\r\n",
        "for q in[*open(0)][:0:-1]:i=int(q);s+=i*(t<1);t-=[-1,t>0][i>0]\r\n",
        "print(s)"
      ],
      "execution_count": null,
      "outputs": []
    },
    {
      "cell_type": "code",
      "metadata": {
        "id": "A_6j1-eje0wr"
      },
      "source": [
        "q=[]\r\n",
        "for _ in[0]*int(input()):n=int(input());q.append(n)if n else q.pop()\r\n",
        "print(sum(q))"
      ],
      "execution_count": null,
      "outputs": []
    }
  ]
}