{
  "nbformat": 4,
  "nbformat_minor": 0,
  "metadata": {
    "colab": {
      "name": "수학_bj2869.ipynb",
      "provenance": [],
      "authorship_tag": "ABX9TyPBPEMf9XDRUTGpnwzevnsX",
      "include_colab_link": true
    },
    "kernelspec": {
      "name": "python3",
      "display_name": "Python 3"
    }
  },
  "cells": [
    {
      "cell_type": "markdown",
      "metadata": {
        "id": "view-in-github",
        "colab_type": "text"
      },
      "source": [
        "<a href=\"https://colab.research.google.com/github/ch33233/Codingtest/blob/main/%EC%88%98%ED%95%99_bj2869.ipynb\" target=\"_parent\"><img src=\"https://colab.research.google.com/assets/colab-badge.svg\" alt=\"Open In Colab\"/></a>"
      ]
    },
    {
      "cell_type": "markdown",
      "metadata": {
        "id": "e89k_VtUW13J"
      },
      "source": [
        "# **백준 2869번 달팽이는 올라가고 싶다 - 수학**\r\n",
        "\r\n",
        "https://www.acmicpc.net/problem/2869\r\n",
        "\r\n",
        "# 문제\r\n",
        "\r\n",
        "땅 위에 달팽이가 있다. 이 달팽이는 높이가 V미터인 나무 막대를 올라갈 것이다.\r\n",
        "\r\n",
        "달팽이는 낮에 A미터 올라갈 수 있다. 하지만, 밤에 잠을 자는 동안 B미터 미끄러진다. 또, 정상에 올라간 후에는 미끄러지지 않는다.\r\n",
        "\r\n",
        "달팽이가 나무 막대를 모두 올라가려면, 며칠이 걸리는지 구하는 프로그램을 작성하시오.\r\n",
        "\r\n",
        "# 입력\r\n",
        "\r\n",
        "첫째 줄에 세 정수 A, B, V가 공백으로 구분되어서 주어진다. (1 ≤ B < A ≤ V ≤ 1,000,000,000)\r\n",
        "\r\n",
        "# 출력\r\n",
        "\r\n",
        "첫째 줄에 달팽이가 나무 막대를 모두 올라가는데 며칠이 걸리는지 출력한다."
      ]
    },
    {
      "cell_type": "markdown",
      "metadata": {
        "id": "qi2dd-LsXWbE"
      },
      "source": [
        "**내 풀이**"
      ]
    },
    {
      "cell_type": "code",
      "metadata": {
        "id": "XqRL-_8_Wzr7"
      },
      "source": [
        "a = list(map(int, input().split()))\r\n",
        "c = (a[2]-a[0])//(a[0]-a[1])\r\n",
        "if ((a[2]-a[0])%(a[0]-a[1])) != 0:\r\n",
        "\tc+=1\r\n",
        "print(c+1)"
      ],
      "execution_count": null,
      "outputs": []
    },
    {
      "cell_type": "markdown",
      "metadata": {
        "id": "ZFP0yaLAZBNv"
      },
      "source": [
        "input을 통해 입력받을 때 받는 입력인자의 갯수가 많으면 리스트로만 값을 받을 수 있다고 생각하여 a가 리스트가 되어 이후 계산 수식이 많이 복잡한 경향이 있다. 하지만 다른 풀이를 보고 입력값을 받을 때 여러 변수에 한번에 값을 대입시키는 것이 있으므로 바꿔야겠다"
      ]
    },
    {
      "cell_type": "markdown",
      "metadata": {
        "id": "OHKNuR9raFBi"
      },
      "source": [
        "**바꾼 코드**"
      ]
    },
    {
      "cell_type": "code",
      "metadata": {
        "id": "Fae5m5JWaEbB"
      },
      "source": [
        "a,b,v = map(int, input().split())\r\n",
        "c = (v-a)//(a-b)\r\n",
        "if (v-a)%(a-b) != 0: #나머지가 있을경우 + 1일\r\n",
        "\tc+=1\r\n",
        "print(c+1)"
      ],
      "execution_count": null,
      "outputs": []
    },
    {
      "cell_type": "markdown",
      "metadata": {
        "id": "9_MWeSasXbnK"
      },
      "source": [
        "**다른 풀이**"
      ]
    },
    {
      "cell_type": "code",
      "metadata": {
        "id": "eqc7_aflXc3Y"
      },
      "source": [
        "a,b,v = map(int,input().split())\r\n",
        "k = 0\t#올라가는 데 걸리는 일수\r\n",
        "d = 0\t#올라간 높이\r\n",
        "while 1:\r\n",
        "    k+=1\r\n",
        "    if a*k-b*(k-1)>=v:\r\n",
        "        break\r\n",
        "print(k)"
      ],
      "execution_count": null,
      "outputs": []
    },
    {
      "cell_type": "markdown",
      "metadata": {
        "id": "25XBrA4CYUSJ"
      },
      "source": [
        "위 코드는 시간초과로 인해 답이 될 수 없으므로 \r\n",
        "\r\n",
        "`a*k-b*(k-1)` => v 를 이항시켜 정리하여 `k>=(v-b)/(a-b)` 로 바꿔준다\r\n",
        "\r\n",
        "그리하여 나온 코드는 아래와 같다"
      ]
    },
    {
      "cell_type": "code",
      "metadata": {
        "id": "4-EwLb-fYpLP"
      },
      "source": [
        "a,b,v = map(int,input().split())\r\n",
        "k = (v-b)/(a-b)\r\n",
        "print(int(k) if k == int(k) else int(k)+1)"
      ],
      "execution_count": null,
      "outputs": []
    },
    {
      "cell_type": "markdown",
      "metadata": {
        "id": "oJy1DQz0XegQ"
      },
      "source": [
        "**숏 코딩**"
      ]
    },
    {
      "cell_type": "code",
      "metadata": {
        "id": "PxjrK-ocXfsn"
      },
      "source": [
        "a,b,v=map(int,input().split())\r\n",
        "print(1-(a-v)//(a-b))"
      ],
      "execution_count": null,
      "outputs": []
    }
  ]
}